{
 "cells": [
  {
   "cell_type": "code",
   "execution_count": 488,
   "metadata": {},
   "outputs": [],
   "source": [
    "import numpy as np\n",
    "import matplotlib.pyplot as plt\n",
    "import pandas as pd\n",
    "X_true = np.linspace(0.,1.,200) # true set\n",
    "X_train = np.linspace(0.,1.,10) # training set\n",
    "X_valid = np.linspace(0.,1.,100) # validation set\n",
    "np.random.seed(2439)\n",
    "t_valid = np.sin(4*np.pi*X_valid) + 0.3 * np.random.randn(100)\n",
    "t_train = np.sin(4*np.pi*X_train) + 0.3 * np.random.randn(10)\n",
    "t_true = np.sin(4*np.pi*X_true)\n"
   ]
  },
  {
   "cell_type": "code",
   "execution_count": 489,
   "metadata": {},
   "outputs": [
    {
     "name": "stdout",
     "output_type": "stream",
     "text": [
      "[0.         0.11111111 0.22222222 0.33333333 0.44444444 0.55555556\n",
      " 0.66666667 0.77777778 0.88888889 1.        ]\n"
     ]
    }
   ],
   "source": [
    "print(X_train) #number of rows and columns"
   ]
  },
  {
   "cell_type": "code",
   "execution_count": 490,
   "metadata": {},
   "outputs": [
    {
     "name": "stdout",
     "output_type": "stream",
     "text": [
      "(100,)\n"
     ]
    }
   ],
   "source": [
    "print(X_valid.shape)"
   ]
  },
  {
   "cell_type": "code",
   "execution_count": 491,
   "metadata": {},
   "outputs": [
    {
     "name": "stdout",
     "output_type": "stream",
     "text": [
      "[ 0.08228161  1.24151391  0.95422854 -0.72371368 -0.7466344   0.42156871\n",
      "  0.83457852 -0.17793861 -0.89207865  0.2212765 ]\n"
     ]
    }
   ],
   "source": [
    "print(t_train)"
   ]
  },
  {
   "cell_type": "code",
   "execution_count": 492,
   "metadata": {},
   "outputs": [
    {
     "name": "stdout",
     "output_type": "stream",
     "text": [
      "(100,)\n"
     ]
    }
   ],
   "source": [
    "print(t_valid.shape)"
   ]
  },
  {
   "cell_type": "code",
   "execution_count": 493,
   "metadata": {},
   "outputs": [
    {
     "name": "stdout",
     "output_type": "stream",
     "text": [
      "[-0.18760681 -0.04143192  0.88540601  0.57047922  0.18052589  0.84407713\n",
      "  0.93702894  1.28872856  0.73976617  0.96438077  0.73146012  1.33522442\n",
      "  1.80788793  0.69432024  0.87405268  0.98136134  1.17411099  0.60907727\n",
      "  0.74535131  0.64982563  1.09735121  0.28138339  0.47346258  0.39847702\n",
      "  0.10985071 -0.10195303 -0.05296797 -0.39621798 -0.57004072 -0.71716081\n",
      " -0.73622382 -0.32100648 -0.89020725 -0.97492747 -1.25628623 -0.48822953\n",
      " -0.73575465 -1.40281023 -0.76557531 -1.34400027 -1.46616573 -1.09633841\n",
      " -0.99799717 -0.78074355 -0.83405482 -0.22009854  0.07304139 -0.55942057\n",
      " -0.01443445  0.132085   -0.29576717  0.26607994  0.07678956  0.41600576\n",
      "  0.70618773  0.72032317  0.79986658  1.24230417  1.08636017  0.87527701\n",
      "  0.58604441  1.2004728   1.02660417  0.95539775  1.28120603  1.52111757\n",
      "  0.52981143  0.84200901  0.7310737   0.42772496  0.44758077 -0.15839444\n",
      "  0.54412138  0.41153684 -0.11667078 -0.20649946 -0.23340385 -0.25181675\n",
      " -0.54983864 -0.91659281 -1.00240761 -0.93191127 -1.13997979 -0.51575681\n",
      " -0.74923359 -0.82200553 -0.27934353 -0.82687683 -1.21762936 -0.82476169\n",
      " -0.5495611  -0.15252921 -0.53360047  0.02826894 -0.44018908 -1.24100194\n",
      " -0.62272316 -0.11723418  0.17670988 -0.11570173]\n"
     ]
    }
   ],
   "source": [
    "print(t_valid)"
   ]
  },
  {
   "cell_type": "code",
   "execution_count": 494,
   "metadata": {},
   "outputs": [
    {
     "name": "stdout",
     "output_type": "stream",
     "text": [
      "     0         1         2         3         4         5         6  \\\n",
      "0  1.0  0.000000  0.000000  0.000000  0.000000  0.000000  0.000000   \n",
      "1  1.0  0.111111  0.012346  0.001372  0.000152  0.000017  0.000002   \n",
      "2  1.0  0.222222  0.049383  0.010974  0.002439  0.000542  0.000120   \n",
      "3  1.0  0.333333  0.111111  0.037037  0.012346  0.004115  0.001372   \n",
      "4  1.0  0.444444  0.197531  0.087791  0.039018  0.017342  0.007707   \n",
      "5  1.0  0.555556  0.308642  0.171468  0.095260  0.052922  0.029401   \n",
      "6  1.0  0.666667  0.444444  0.296296  0.197531  0.131687  0.087791   \n",
      "7  1.0  0.777778  0.604938  0.470508  0.365950  0.284628  0.221377   \n",
      "8  1.0  0.888889  0.790123  0.702332  0.624295  0.554929  0.493270   \n",
      "9  1.0  1.000000  1.000000  1.000000  1.000000  1.000000  1.000000   \n",
      "\n",
      "              7             8             9  \n",
      "0  0.000000e+00  0.000000e+00  0.000000e+00  \n",
      "1  2.090752e-07  2.323057e-08  2.581175e-09  \n",
      "2  2.676162e-05  5.947027e-06  1.321561e-06  \n",
      "3  4.572474e-04  1.524158e-04  5.080526e-05  \n",
      "4  3.425487e-03  1.522439e-03  6.766395e-04  \n",
      "5  1.633400e-02  9.074443e-03  5.041357e-03  \n",
      "6  5.852766e-02  3.901844e-02  2.601229e-02  \n",
      "7  1.721824e-01  1.339196e-01  1.041597e-01  \n",
      "8  4.384624e-01  3.897443e-01  3.464394e-01  \n",
      "9  1.000000e+00  1.000000e+00  1.000000e+00  \n",
      "(10, 10)\n"
     ]
    }
   ],
   "source": [
    "#Creating X Matrix\n",
    "X_Small = np.linspace(1.,1.,10)\n",
    "\n",
    "\n",
    "\n",
    "M1 = np.power(X_train,1)\n",
    "M2 = np.power(X_train,2)\n",
    "M3 = np.power(X_train,3)\n",
    "M4 = np.power(X_train,4)\n",
    "M5 = np.power(X_train,5)\n",
    "M6 = np.power(X_train,6)\n",
    "M7 = np.power(X_train,7)\n",
    "M8 = np.power(X_train,8)\n",
    "M9 = np.power(X_train,9)\n",
    "\n",
    "\n",
    "X_Large = np.column_stack([X_Small,M1,M2,M3,M4,M5,M6,M7,M8,M9])\n",
    "\n",
    "\n",
    "#print(M3) #print out the X matrix array \n",
    "#print(X_Large.shape) # prints out the number of rows and column of the array\n",
    "print(pd.DataFrame(X_Large))\n",
    "print(X_Large.shape)\n",
    "                  "
   ]
  },
  {
   "cell_type": "code",
   "execution_count": 495,
   "metadata": {},
   "outputs": [
    {
     "name": "stdout",
     "output_type": "stream",
     "text": [
      "              0\n",
      "0      0.082305\n",
      "1    -35.354462\n",
      "2   1021.053518\n",
      "3  -8197.195651\n",
      "4  30640.388003\n",
      "5 -63952.239388\n",
      "6  80602.781917\n",
      "7 -62274.794608\n",
      "8  27663.414915\n",
      "9  -5467.915010\n"
     ]
    }
   ],
   "source": [
    "\n",
    "\n",
    "#Finding the bias values \"w\"\n",
    "\n",
    "X_transposed = np.transpose(X_Large) #X matrix transposed\n",
    "\n",
    "X_toInverse = np.dot(X_transposed,X_Large) #The dot product of X and X^T that will be inversed\n",
    "\n",
    "X_Inversed = (np.linalg.inv(X_toInverse)) # The inversed dot product\n",
    "\n",
    "A = np.dot(X_Inversed,X_transposed) # (X^TX)^(-1) - the expression before the final dot product with t \n",
    "\n",
    "w = np.dot(A,t_train) # the dot product of the above expression and t to find the bias/or intercept matrix\n"
   ]
  },
  {
   "cell_type": "code",
   "execution_count": null,
   "metadata": {},
   "outputs": [],
   "source": []
  },
  {
   "cell_type": "code",
   "execution_count": 513,
   "metadata": {},
   "outputs": [],
   "source": [
    "def findA(b):\n",
    "    \n",
    "    X_transposed = np.transpose(b) #X matrix transposed\n",
    "        \n",
    "    X_toInverse = np.dot(X_transposed,b) #The dot product of X and X^T that will be inversed\n",
    "\n",
    "    X_Inversed = (np.linalg.inv(X_toInverse)) # The inversed dot product\n",
    "\n",
    "    A = np.dot(X_Inversed,X_transposed) # (X^TX)^(-1) - the expression before the final dot product with t\n",
    "        \n",
    "    return(A)\n",
    "    "
   ]
  },
  {
   "cell_type": "code",
   "execution_count": null,
   "metadata": {},
   "outputs": [],
   "source": [
    "\n",
    "    "
   ]
  },
  {
   "cell_type": "code",
   "execution_count": 575,
   "metadata": {},
   "outputs": [
    {
     "name": "stdout",
     "output_type": "stream",
     "text": [
      "Training Error\n",
      "9.76738439197796e-09\n",
      "Training Error (Root Main Sqaured)\n",
      "9.883007837686845e-05\n"
     ]
    },
    {
     "data": {
      "image/png": "[encoded data removed]",
      "text/plain": [
       "<Figure size 432x288 with 1 Axes>"
      ]
     },
     "metadata": {
      "needs_background": "light"
     },
     "output_type": "display_data"
    }
   ],
   "source": [
    "\n",
    "def plot_prediction_line(x,y,a,b,w,m, true_x, true_y):\n",
    "    #plotting the training data \n",
    "    plt.scatter(x, y, color = \"magenta\")\n",
    "    \n",
    "    #plotting the validation data\n",
    "    plt.scatter(a,b, color = \"green\")\n",
    "    \n",
    "    \n",
    "    X_Large2 = X_Large\n",
    "    w2 = w[0]\n",
    "    \n",
    "    #Finding corresponding formula according to M value\n",
    "    \n",
    "    if m == 0:\n",
    "        X_Large2 = X_Large[:,0]\n",
    "        w2 = w[0]\n",
    "    elif m == 1:\n",
    "        X_Large2 = np.column_stack([X_Large[:,0],X_Large[:,1]])\n",
    "        w2 = np.dot(findA(X_Large2),y)\n",
    "    elif m == 2:\n",
    "        X_Large2 = np.column_stack([X_Large[:,0],X_Large[:,1], X_Large[:,2]])\n",
    "        w2 = np.dot(findA(X_Large2),y)\n",
    "    elif m == 3:\n",
    "        X_Large2 = np.column_stack([X_Large[:,0],X_Large[:,1], X_Large[:,2],X_Large[:,3]])\n",
    "        w2 = np.dot(findA(X_Large2),y)\n",
    "    elif m == 4:\n",
    "        X_Large2 = np.column_stack([X_Large[:,0],X_Large[:,1], X_Large[:,2],X_Large[:,3],X_Large[:,4]])\n",
    "        w2 = np.dot(findA(X_Large2),y)\n",
    "    elif m == 5:\n",
    "        X_Large2 = np.column_stack([X_Large[:,0],X_Large[:,1], X_Large[:,2],X_Large[:,3],X_Large[:,4],X_Large[:,5]])\n",
    "        w2 = np.dot(findA(X_Large2),y)\n",
    "    elif m == 6:\n",
    "        X_Large2 = np.column_stack([X_Large[:,0],X_Large[:,1], X_Large[:,2],X_Large[:,3],X_Large[:,4],X_Large[:,5],X_Large[:,6]])\n",
    "        w2 = np.dot(findA(X_Large2),y)\n",
    "    elif m == 7:\n",
    "        X_Large2 = np.column_stack([X_Large[:,0],X_Large[:,1], X_Large[:,2],X_Large[:,3],X_Large[:,4],X_Large[:,5],X_Large[:,6],X_Large[:,7]])\n",
    "        w2 = np.dot(findA(X_Large2),y)\n",
    "    elif m == 8:\n",
    "        X_Large2 = np.column_stack([X_Large[:,0],X_Large[:,1], X_Large[:,2],X_Large[:,3],X_Large[:,4],X_Large[:,5],X_Large[:,6],X_Large[:,7],X_Large[:,8]])\n",
    "        w2 = np.dot(findA(X_Large2),y)\n",
    "    elif m == 9:\n",
    "        X_Large2 = np.column_stack([X_Large[:,0],X_Large[:,1], X_Large[:,2],X_Large[:,3],X_Large[:,4],X_Large[:,5],X_Large[:,6],X_Large[:,7],X_Large[:,8],X_Large[:,9]])\n",
    "        w2 = np.dot(findA(X_Large2),y)\n",
    "    \n",
    "    #y prediction dot product y = Xw\n",
    "    mult = np.dot(X_Large2,w2)\n",
    "    t_pred = mult\n",
    "    \n",
    "    #Training Error\n",
    "    \n",
    "    print(\"Training Error\")\n",
    "    diff_train_one = np.subtract(t_train,t_pred)\n",
    "    err_train_one = np.dot(diff_train_one.T,diff_train_one)/len(X_train)\n",
    "    print(err_train_one)\n",
    "    RMSE_train_one = np.sqrt(err_train_one)\n",
    "    print(\"Training Error (Root Main Sqaured)\")\n",
    "    print(RMSE_train_one)\n",
    "    \n",
    "    #print(\"Validation Error\")\n",
    "    #diff_valid_one = np.subtract(t_valid,t_pred)\n",
    "    #err_valid_one = np.dot(diff_valid_one.T,diff_valid_one)/len(X_valid)\n",
    "    #print(err_valid_one)\n",
    "   # RMSE_train_one = np.sqrt(err_valid_one)\n",
    "   # print(\"Validation Error (Root Main Sqaured)\")\n",
    "   # print(RMSE_valid_one)\n",
    "\n",
    "   \n",
    "  \n",
    "    #plotting the prediction line\n",
    "    plt.plot(x, t_pred, color = \"orange\")\n",
    "    \n",
    "    #plotting the true function\n",
    "    plt.plot(X_true,t_true, color =\"blue\")\n",
    "    \n",
    "    plt.xlabel('x') \n",
    "    plt.ylabel('y')\n",
    "    plt.title(\"M = \" + str(m))\n",
    "    \n",
    "    plt.show()\n",
    "   \n",
    "    \n",
    "    \n",
    "\n",
    "plot_prediction_line(X_train,t_train,X_valid,t_valid,w,9,X_true,t_true)\n",
    "    \n",
    "    \n",
    "    \n"
   ]
  },
  {
   "cell_type": "code",
   "execution_count": null,
   "metadata": {},
   "outputs": [],
   "source": [
    "\n"
   ]
  },
  {
   "cell_type": "code",
   "execution_count": null,
   "metadata": {},
   "outputs": [],
   "source": [
    "\n"
   ]
  },
  {
   "cell_type": "code",
   "execution_count": null,
   "metadata": {},
   "outputs": [],
   "source": []
  },
  {
   "cell_type": "code",
   "execution_count": null,
   "metadata": {},
   "outputs": [],
   "source": []
  }
 ],
 "metadata": {
  "kernelspec": {
   "display_name": "Python 3",
   "language": "python",
   "name": "python3"
  },
  "language_info": {
   "codemirror_mode": {
    "name": "ipython",
    "version": 3
   },
   "file_extension": ".py",
   "mimetype": "text/x-python",
   "name": "python",
   "nbconvert_exporter": "python",
   "pygments_lexer": "ipython3",
   "version": "3.8.5"
  }
 },
 "nbformat": 4,
 "nbformat_minor": 4
}
